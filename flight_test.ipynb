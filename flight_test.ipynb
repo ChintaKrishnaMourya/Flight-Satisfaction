{
 "cells": [
  {
   "cell_type": "code",
   "execution_count": 19,
   "metadata": {},
   "outputs": [
    {
     "name": "stderr",
     "output_type": "stream",
     "text": [
      "C:\\Users\\koush\\AppData\\Local\\Packages\\PythonSoftwareFoundation.Python.3.10_qbz5n2kfra8p0\\LocalCache\\local-packages\\Python310\\site-packages\\sklearn\\cluster\\_kmeans.py:870: FutureWarning: The default value of `n_init` will change from 10 to 'auto' in 1.4. Set the value of `n_init` explicitly to suppress the warning\n",
      "  warnings.warn(\n",
      "C:\\Users\\koush\\AppData\\Local\\Packages\\PythonSoftwareFoundation.Python.3.10_qbz5n2kfra8p0\\LocalCache\\local-packages\\Python310\\site-packages\\sklearn\\cluster\\_kmeans.py:870: FutureWarning: The default value of `n_init` will change from 10 to 'auto' in 1.4. Set the value of `n_init` explicitly to suppress the warning\n",
      "  warnings.warn(\n",
      "C:\\Users\\koush\\AppData\\Local\\Packages\\PythonSoftwareFoundation.Python.3.10_qbz5n2kfra8p0\\LocalCache\\local-packages\\Python310\\site-packages\\sklearn\\cluster\\_kmeans.py:870: FutureWarning: The default value of `n_init` will change from 10 to 'auto' in 1.4. Set the value of `n_init` explicitly to suppress the warning\n",
      "  warnings.warn(\n",
      "C:\\Users\\koush\\AppData\\Local\\Packages\\PythonSoftwareFoundation.Python.3.10_qbz5n2kfra8p0\\LocalCache\\local-packages\\Python310\\site-packages\\sklearn\\cluster\\_kmeans.py:870: FutureWarning: The default value of `n_init` will change from 10 to 'auto' in 1.4. Set the value of `n_init` explicitly to suppress the warning\n",
      "  warnings.warn(\n",
      "C:\\Users\\koush\\AppData\\Local\\Packages\\PythonSoftwareFoundation.Python.3.10_qbz5n2kfra8p0\\LocalCache\\local-packages\\Python310\\site-packages\\sklearn\\cluster\\_kmeans.py:870: FutureWarning: The default value of `n_init` will change from 10 to 'auto' in 1.4. Set the value of `n_init` explicitly to suppress the warning\n",
      "  warnings.warn(\n",
      "C:\\Users\\koush\\AppData\\Local\\Packages\\PythonSoftwareFoundation.Python.3.10_qbz5n2kfra8p0\\LocalCache\\local-packages\\Python310\\site-packages\\sklearn\\cluster\\_kmeans.py:870: FutureWarning: The default value of `n_init` will change from 10 to 'auto' in 1.4. Set the value of `n_init` explicitly to suppress the warning\n",
      "  warnings.warn(\n",
      "C:\\Users\\koush\\AppData\\Local\\Packages\\PythonSoftwareFoundation.Python.3.10_qbz5n2kfra8p0\\LocalCache\\local-packages\\Python310\\site-packages\\sklearn\\cluster\\_kmeans.py:870: FutureWarning: The default value of `n_init` will change from 10 to 'auto' in 1.4. Set the value of `n_init` explicitly to suppress the warning\n",
      "  warnings.warn(\n",
      "C:\\Users\\koush\\AppData\\Local\\Packages\\PythonSoftwareFoundation.Python.3.10_qbz5n2kfra8p0\\LocalCache\\local-packages\\Python310\\site-packages\\sklearn\\cluster\\_kmeans.py:870: FutureWarning: The default value of `n_init` will change from 10 to 'auto' in 1.4. Set the value of `n_init` explicitly to suppress the warning\n",
      "  warnings.warn(\n",
      "C:\\Users\\koush\\AppData\\Local\\Packages\\PythonSoftwareFoundation.Python.3.10_qbz5n2kfra8p0\\LocalCache\\local-packages\\Python310\\site-packages\\sklearn\\cluster\\_kmeans.py:870: FutureWarning: The default value of `n_init` will change from 10 to 'auto' in 1.4. Set the value of `n_init` explicitly to suppress the warning\n",
      "  warnings.warn(\n",
      "C:\\Users\\koush\\AppData\\Local\\Packages\\PythonSoftwareFoundation.Python.3.10_qbz5n2kfra8p0\\LocalCache\\local-packages\\Python310\\site-packages\\sklearn\\cluster\\_kmeans.py:870: FutureWarning: The default value of `n_init` will change from 10 to 'auto' in 1.4. Set the value of `n_init` explicitly to suppress the warning\n",
      "  warnings.warn(\n"
     ]
    },
    {
     "name": "stdout",
     "output_type": "stream",
     "text": [
      "(82875,) (103594, 24)\n"
     ]
    },
    {
     "name": "stderr",
     "output_type": "stream",
     "text": [
      "C:\\Users\\koush\\AppData\\Local\\Packages\\PythonSoftwareFoundation.Python.3.10_qbz5n2kfra8p0\\LocalCache\\local-packages\\Python310\\site-packages\\sklearn\\cluster\\_kmeans.py:870: FutureWarning: The default value of `n_init` will change from 10 to 'auto' in 1.4. Set the value of `n_init` explicitly to suppress the warning\n",
      "  warnings.warn(\n"
     ]
    }
   ],
   "source": [
    "from sklearn.cluster import KMeans\n",
    "from sklearn.ensemble import RandomForestClassifier\n",
    "from sklearn.model_selection import train_test_split\n",
    "from kneed import KneeLocator\n",
    "import pandas as pd\n",
    "import pickle\n",
    "from sklearn import preprocessing\n",
    "\n",
    "\n",
    "# Load the dataset\n",
    "data = pd.read_csv(\"train.csv\")\n",
    "\n",
    "def prepo(data):\n",
    "# Handling Missing values\n",
    "    data.dropna(inplace=True)\n",
    "\n",
    "    # Label Encoding\n",
    "    label_encoder = preprocessing.LabelEncoder()\n",
    "    cat_col = data.select_dtypes(include=\"object\").columns\n",
    "    for i in cat_col:\n",
    "        data[i]= label_encoder.fit_transform(data[i])\n",
    "# Choose the features you want to use for clustering and modeling\n",
    "    X = data.drop(\"satisfaction\",axis=1)\n",
    "    y = data[\"satisfaction\"]\n",
    "\n",
    "    return X,y\n",
    "X,y = prepo(data=data)\n",
    "\n",
    "\n",
    "\n",
    "\n",
    "# Use the kneed library to find the optimal number of clusters\n",
    "sse = []\n",
    "for k in range(1, 11):\n",
    "    kmeans = KMeans(n_clusters=k, random_state=42)\n",
    "    kmeans.fit(X)\n",
    "    sse.append(kmeans.inertia_)\n",
    "kl = KneeLocator(range(1, 11), sse, curve=\"convex\", direction=\"decreasing\")\n",
    "n_clusters = kl.elbow\n",
    "\n",
    "# print(clusters.shape, X.shape)\n",
    "# Split the data into training and testing sets\n",
    "X_train, X_test, y_train, y_test = train_test_split(X, y, test_size=0.2, random_state=42)\n",
    "\n",
    "# Cluster the data using k-means\n",
    "kmeans = KMeans(n_clusters=n_clusters, random_state=42)\n",
    "clusters = kmeans.fit_predict(X_train)\n",
    "\n",
    "# Train a separate model for each cluster and save them\n",
    "for i in range(n_clusters):\n",
    "    # Get the instances assigned to this cluster\n",
    "    cluster_mask = clusters == i\n",
    "    X_cluster = X_train[cluster_mask]\n",
    "    y_cluster = y_train[cluster_mask]\n",
    "    \n",
    "    # Train a linear regression model on the cluster\n",
    "    model = RandomForestClassifier()\n",
    "    model.fit(X_cluster, y_cluster)\n",
    "    \n",
    "    # Save the trained model using pickle\n",
    "    with open(f\"model_{i}.pickle\", \"wb\") as f:\n",
    "        pickle.dump(model, f)\n",
    "\n"
   ]
  },
  {
   "cell_type": "code",
   "execution_count": 29,
   "metadata": {},
   "outputs": [],
   "source": [
    "from sklearn.metrics import classification_report, accuracy_score, precision_score, recall_score, f1_score"
   ]
  },
  {
   "cell_type": "code",
   "execution_count": 30,
   "metadata": {},
   "outputs": [
    {
     "name": "stdout",
     "output_type": "stream",
     "text": [
      "Predictions for cluster 0: 24772\n",
      "              precision    recall  f1-score   support\n",
      "\n",
      "           0       0.95      0.97      0.96     14528\n",
      "           1       0.96      0.94      0.95     11365\n",
      "\n",
      "    accuracy                           0.96     25893\n",
      "   macro avg       0.96      0.95      0.96     25893\n",
      "weighted avg       0.96      0.96      0.96     25893\n",
      "\n",
      "0.9641174338528452\n",
      "Predictions for cluster 1: 24327\n",
      "              precision    recall  f1-score   support\n",
      "\n",
      "           0       0.91      0.98      0.95     14528\n",
      "           1       0.98      0.88      0.93     11365\n",
      "\n",
      "    accuracy                           0.94     25893\n",
      "   macro avg       0.95      0.93      0.94     25893\n",
      "weighted avg       0.94      0.94      0.94     25893\n",
      "\n",
      "0.978420076164437\n",
      "Predictions for cluster 2: 24785\n",
      "              precision    recall  f1-score   support\n",
      "\n",
      "           0       0.96      0.97      0.96     14528\n",
      "           1       0.96      0.94      0.95     11365\n",
      "\n",
      "    accuracy                           0.96     25893\n",
      "   macro avg       0.96      0.96      0.96     25893\n",
      "weighted avg       0.96      0.96      0.96     25893\n",
      "\n",
      "0.9577791662947425\n",
      "Predictions for cluster 3: 24355\n",
      "              precision    recall  f1-score   support\n",
      "\n",
      "           0       0.92      0.98      0.95     14528\n",
      "           1       0.97      0.89      0.93     11365\n",
      "\n",
      "    accuracy                           0.94     25893\n",
      "   macro avg       0.95      0.93      0.94     25893\n",
      "weighted avg       0.94      0.94      0.94     25893\n",
      "\n",
      "0.9737730209237296\n"
     ]
    }
   ],
   "source": [
    "# Load the saved models and make predictions on new data\n",
    "X_new = pd.read_csv(\"test.csv\")\n",
    "X,y = prepo(X_new)\n",
    "for i in range(n_clusters):\n",
    "    # Load the trained model\n",
    "    with open(f\"model_{i}.pickle\", \"rb\") as f:\n",
    "        model = pickle.load(f)\n",
    "    \n",
    "    # Get the instances assigned to this cluster\n",
    "    # cluster_mask = kmeans.predict(X) == i\n",
    "    # X_cluster_new = X[cluster_mask]\n",
    "    \n",
    "    # Make predictions using the model and the instances assigned to the cluster\n",
    "    y_pred = model.predict(X)\n",
    "    print(f\"Predictions for cluster {i}: {(y_pred==y).sum()}\")\n",
    "\n",
    "    report = classification_report(y,y_pred)\n",
    "    print(report)\n",
    "    print(precision_score(y,y_pred))"
   ]
  },
  {
   "cell_type": "code",
   "execution_count": null,
   "metadata": {},
   "outputs": [],
   "source": []
  }
 ],
 "metadata": {
  "kernelspec": {
   "display_name": "Python 3",
   "language": "python",
   "name": "python3"
  },
  "language_info": {
   "codemirror_mode": {
    "name": "ipython",
    "version": 3
   },
   "file_extension": ".py",
   "mimetype": "text/x-python",
   "name": "python",
   "nbconvert_exporter": "python",
   "pygments_lexer": "ipython3",
   "version": "3.10.11"
  },
  "orig_nbformat": 4,
  "vscode": {
   "interpreter": {
    "hash": "40590ebb26e95edc6c1f3a8a7137aad132b51444b5d516fe05a60311a56b75f0"
   }
  }
 },
 "nbformat": 4,
 "nbformat_minor": 2
}
